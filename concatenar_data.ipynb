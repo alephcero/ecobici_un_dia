{
 "cells": [
  {
   "cell_type": "code",
   "execution_count": 11,
   "metadata": {},
   "outputs": [],
   "source": [
    "import pandas as pd\n",
    "import os\n",
    "from datetime import datetime, timedelta\n",
    "import pytz\n",
    "import numpy as np\n",
    "import matplotlib.pyplot as plt\n",
    "%matplotlib inline"
   ]
  },
  {
   "cell_type": "code",
   "execution_count": 12,
   "metadata": {},
   "outputs": [],
   "source": [
    "archivos = os.listdir('data/desagregada/')"
   ]
  },
  {
   "cell_type": "code",
   "execution_count": 13,
   "metadata": {},
   "outputs": [],
   "source": [
    "def tiempo_desde_ultimo_reporte(dt):\n",
    "    consulta = pd.to_datetime(dt.timestamp_consulta.iloc[0]).replace(tzinfo=None)\n",
    "    dt['ult_reporte'] = dt.last_reported.map(datetime.fromtimestamp)\n",
    "    dt['delta_ultimo_reporte'] = ((consulta - dt.ult_reporte)  / np.timedelta64(1, 'm')).astype(int)\n",
    "    return dt"
   ]
  },
  {
   "cell_type": "code",
   "execution_count": 14,
   "metadata": {
    "scrolled": true
   },
   "outputs": [],
   "source": [
    "concatenada = pd.concat([tiempo_desde_ultimo_reporte(pd.read_csv('data/desagregada/'+archivo)) for archivo in archivos])\n",
    "concatenada = concatenada.drop('Unnamed: 0',axis=1)"
   ]
  },
  {
   "cell_type": "code",
   "execution_count": 15,
   "metadata": {},
   "outputs": [
    {
     "data": {
      "text/html": [
       "<div>\n",
       "<style scoped>\n",
       "    .dataframe tbody tr th:only-of-type {\n",
       "        vertical-align: middle;\n",
       "    }\n",
       "\n",
       "    .dataframe tbody tr th {\n",
       "        vertical-align: top;\n",
       "    }\n",
       "\n",
       "    .dataframe thead th {\n",
       "        text-align: right;\n",
       "    }\n",
       "</style>\n",
       "<table border=\"1\" class=\"dataframe\">\n",
       "  <thead>\n",
       "    <tr style=\"text-align: right;\">\n",
       "      <th></th>\n",
       "      <th>is_charging_station</th>\n",
       "      <th>is_installed</th>\n",
       "      <th>is_renting</th>\n",
       "      <th>is_returning</th>\n",
       "      <th>last_reported</th>\n",
       "      <th>num_bikes_available</th>\n",
       "      <th>num_bikes_available_types</th>\n",
       "      <th>num_bikes_disabled</th>\n",
       "      <th>num_docks_available</th>\n",
       "      <th>num_docks_disabled</th>\n",
       "      <th>station_id</th>\n",
       "      <th>status</th>\n",
       "      <th>name</th>\n",
       "      <th>capacity</th>\n",
       "      <th>lat</th>\n",
       "      <th>lon</th>\n",
       "      <th>timestamp_consulta</th>\n",
       "      <th>ult_reporte</th>\n",
       "      <th>delta_ultimo_reporte</th>\n",
       "    </tr>\n",
       "  </thead>\n",
       "  <tbody>\n",
       "    <tr>\n",
       "      <th>0</th>\n",
       "      <td>False</td>\n",
       "      <td>1</td>\n",
       "      <td>1</td>\n",
       "      <td>1</td>\n",
       "      <td>1563570004</td>\n",
       "      <td>2</td>\n",
       "      <td>{'mechanical': 2, 'ebike': 0}</td>\n",
       "      <td>0</td>\n",
       "      <td>18</td>\n",
       "      <td>0</td>\n",
       "      <td>2</td>\n",
       "      <td>IN_SERVICE</td>\n",
       "      <td>002 - Retiro I</td>\n",
       "      <td>20</td>\n",
       "      <td>-34.592423</td>\n",
       "      <td>-58.374715</td>\n",
       "      <td>2019-07-19 18:02:20.449265-03:00</td>\n",
       "      <td>2019-07-19 18:00:04</td>\n",
       "      <td>2</td>\n",
       "    </tr>\n",
       "    <tr>\n",
       "      <th>1</th>\n",
       "      <td>False</td>\n",
       "      <td>1</td>\n",
       "      <td>1</td>\n",
       "      <td>1</td>\n",
       "      <td>1563569978</td>\n",
       "      <td>0</td>\n",
       "      <td>{'mechanical': 0, 'ebike': 0}</td>\n",
       "      <td>0</td>\n",
       "      <td>20</td>\n",
       "      <td>0</td>\n",
       "      <td>3</td>\n",
       "      <td>IN_SERVICE</td>\n",
       "      <td>003 - ADUANA</td>\n",
       "      <td>20</td>\n",
       "      <td>-34.611032</td>\n",
       "      <td>-58.368260</td>\n",
       "      <td>2019-07-19 18:02:20.449265-03:00</td>\n",
       "      <td>2019-07-19 17:59:38</td>\n",
       "      <td>2</td>\n",
       "    </tr>\n",
       "    <tr>\n",
       "      <th>2</th>\n",
       "      <td>False</td>\n",
       "      <td>1</td>\n",
       "      <td>1</td>\n",
       "      <td>1</td>\n",
       "      <td>1563569972</td>\n",
       "      <td>0</td>\n",
       "      <td>{'mechanical': 0, 'ebike': 0}</td>\n",
       "      <td>0</td>\n",
       "      <td>20</td>\n",
       "      <td>0</td>\n",
       "      <td>4</td>\n",
       "      <td>IN_SERVICE</td>\n",
       "      <td>004 - Plaza Roma</td>\n",
       "      <td>20</td>\n",
       "      <td>-34.601726</td>\n",
       "      <td>-58.368763</td>\n",
       "      <td>2019-07-19 18:02:20.449265-03:00</td>\n",
       "      <td>2019-07-19 17:59:32</td>\n",
       "      <td>2</td>\n",
       "    </tr>\n",
       "    <tr>\n",
       "      <th>3</th>\n",
       "      <td>False</td>\n",
       "      <td>1</td>\n",
       "      <td>1</td>\n",
       "      <td>1</td>\n",
       "      <td>1563569870</td>\n",
       "      <td>1</td>\n",
       "      <td>{'mechanical': 1, 'ebike': 0}</td>\n",
       "      <td>2</td>\n",
       "      <td>39</td>\n",
       "      <td>1</td>\n",
       "      <td>5</td>\n",
       "      <td>IN_SERVICE</td>\n",
       "      <td>005 - Plaza Italia</td>\n",
       "      <td>42</td>\n",
       "      <td>-34.580550</td>\n",
       "      <td>-58.420954</td>\n",
       "      <td>2019-07-19 18:02:20.449265-03:00</td>\n",
       "      <td>2019-07-19 17:57:50</td>\n",
       "      <td>4</td>\n",
       "    </tr>\n",
       "    <tr>\n",
       "      <th>4</th>\n",
       "      <td>False</td>\n",
       "      <td>1</td>\n",
       "      <td>1</td>\n",
       "      <td>1</td>\n",
       "      <td>1563569866</td>\n",
       "      <td>0</td>\n",
       "      <td>{'mechanical': 0, 'ebike': 0}</td>\n",
       "      <td>2</td>\n",
       "      <td>18</td>\n",
       "      <td>0</td>\n",
       "      <td>6</td>\n",
       "      <td>IN_SERVICE</td>\n",
       "      <td>006 - Parque Lezama</td>\n",
       "      <td>20</td>\n",
       "      <td>-34.628526</td>\n",
       "      <td>-58.369758</td>\n",
       "      <td>2019-07-19 18:02:20.449265-03:00</td>\n",
       "      <td>2019-07-19 17:57:46</td>\n",
       "      <td>4</td>\n",
       "    </tr>\n",
       "  </tbody>\n",
       "</table>\n",
       "</div>"
      ],
      "text/plain": [
       "   is_charging_station  is_installed  is_renting  is_returning  last_reported  \\\n",
       "0                False             1           1             1     1563570004   \n",
       "1                False             1           1             1     1563569978   \n",
       "2                False             1           1             1     1563569972   \n",
       "3                False             1           1             1     1563569870   \n",
       "4                False             1           1             1     1563569866   \n",
       "\n",
       "   num_bikes_available      num_bikes_available_types  num_bikes_disabled  \\\n",
       "0                    2  {'mechanical': 2, 'ebike': 0}                   0   \n",
       "1                    0  {'mechanical': 0, 'ebike': 0}                   0   \n",
       "2                    0  {'mechanical': 0, 'ebike': 0}                   0   \n",
       "3                    1  {'mechanical': 1, 'ebike': 0}                   2   \n",
       "4                    0  {'mechanical': 0, 'ebike': 0}                   2   \n",
       "\n",
       "   num_docks_available  num_docks_disabled  station_id      status  \\\n",
       "0                   18                   0           2  IN_SERVICE   \n",
       "1                   20                   0           3  IN_SERVICE   \n",
       "2                   20                   0           4  IN_SERVICE   \n",
       "3                   39                   1           5  IN_SERVICE   \n",
       "4                   18                   0           6  IN_SERVICE   \n",
       "\n",
       "                  name  capacity        lat        lon  \\\n",
       "0       002 - Retiro I        20 -34.592423 -58.374715   \n",
       "1         003 - ADUANA        20 -34.611032 -58.368260   \n",
       "2     004 - Plaza Roma        20 -34.601726 -58.368763   \n",
       "3   005 - Plaza Italia        42 -34.580550 -58.420954   \n",
       "4  006 - Parque Lezama        20 -34.628526 -58.369758   \n",
       "\n",
       "                 timestamp_consulta         ult_reporte  delta_ultimo_reporte  \n",
       "0  2019-07-19 18:02:20.449265-03:00 2019-07-19 18:00:04                     2  \n",
       "1  2019-07-19 18:02:20.449265-03:00 2019-07-19 17:59:38                     2  \n",
       "2  2019-07-19 18:02:20.449265-03:00 2019-07-19 17:59:32                     2  \n",
       "3  2019-07-19 18:02:20.449265-03:00 2019-07-19 17:57:50                     4  \n",
       "4  2019-07-19 18:02:20.449265-03:00 2019-07-19 17:57:46                     4  "
      ]
     },
     "execution_count": 15,
     "metadata": {},
     "output_type": "execute_result"
    }
   ],
   "source": [
    "concatenada.head()"
   ]
  },
  {
   "cell_type": "code",
   "execution_count": 16,
   "metadata": {},
   "outputs": [],
   "source": [
    "concatenada.to_csv('data/un_dia_ecobici.csv',index=False)"
   ]
  },
  {
   "cell_type": "code",
   "execution_count": 17,
   "metadata": {},
   "outputs": [],
   "source": [
    "concatenada['sospechosa'] = False\n",
    "concatenada.loc[(concatenada.is_returning ==1) & (concatenada.delta_ultimo_reporte > 10),'sospechosa'] = True  \n"
   ]
  },
  {
   "cell_type": "code",
   "execution_count": 23,
   "metadata": {},
   "outputs": [],
   "source": [
    "col_interes = ['timestamp_consulta','num_bikes_available','num_bikes_disabled','num_docks_available','num_docks_disabled','sospechosa']"
   ]
  },
  {
   "cell_type": "code",
   "execution_count": 25,
   "metadata": {},
   "outputs": [
    {
     "data": {
      "text/html": [
       "<div>\n",
       "<style scoped>\n",
       "    .dataframe tbody tr th:only-of-type {\n",
       "        vertical-align: middle;\n",
       "    }\n",
       "\n",
       "    .dataframe tbody tr th {\n",
       "        vertical-align: top;\n",
       "    }\n",
       "\n",
       "    .dataframe thead th {\n",
       "        text-align: right;\n",
       "    }\n",
       "</style>\n",
       "<table border=\"1\" class=\"dataframe\">\n",
       "  <thead>\n",
       "    <tr style=\"text-align: right;\">\n",
       "      <th></th>\n",
       "      <th>num_bikes_available</th>\n",
       "      <th>num_bikes_disabled</th>\n",
       "      <th>num_docks_available</th>\n",
       "      <th>num_docks_disabled</th>\n",
       "      <th>sospechosa</th>\n",
       "    </tr>\n",
       "    <tr>\n",
       "      <th>timestamp_consulta</th>\n",
       "      <th></th>\n",
       "      <th></th>\n",
       "      <th></th>\n",
       "      <th></th>\n",
       "      <th></th>\n",
       "    </tr>\n",
       "  </thead>\n",
       "  <tbody>\n",
       "    <tr>\n",
       "      <th>2019-07-19 00:31:02.847471-03:00</th>\n",
       "      <td>1296</td>\n",
       "      <td>1066</td>\n",
       "      <td>5164</td>\n",
       "      <td>91</td>\n",
       "      <td>1.0</td>\n",
       "    </tr>\n",
       "    <tr>\n",
       "      <th>2019-07-19 01:01:04.187908-03:00</th>\n",
       "      <td>1288</td>\n",
       "      <td>1072</td>\n",
       "      <td>5166</td>\n",
       "      <td>86</td>\n",
       "      <td>1.0</td>\n",
       "    </tr>\n",
       "    <tr>\n",
       "      <th>2019-07-19 01:31:09.091072-03:00</th>\n",
       "      <td>1356</td>\n",
       "      <td>1051</td>\n",
       "      <td>5120</td>\n",
       "      <td>88</td>\n",
       "      <td>1.0</td>\n",
       "    </tr>\n",
       "    <tr>\n",
       "      <th>2019-07-19 02:01:12.404074-03:00</th>\n",
       "      <td>1391</td>\n",
       "      <td>1039</td>\n",
       "      <td>5098</td>\n",
       "      <td>90</td>\n",
       "      <td>1.0</td>\n",
       "    </tr>\n",
       "    <tr>\n",
       "      <th>2019-07-19 02:31:14.098947-03:00</th>\n",
       "      <td>1435</td>\n",
       "      <td>1023</td>\n",
       "      <td>5070</td>\n",
       "      <td>88</td>\n",
       "      <td>2.0</td>\n",
       "    </tr>\n",
       "  </tbody>\n",
       "</table>\n",
       "</div>"
      ],
      "text/plain": [
       "                                  num_bikes_available  num_bikes_disabled  \\\n",
       "timestamp_consulta                                                          \n",
       "2019-07-19 00:31:02.847471-03:00                 1296                1066   \n",
       "2019-07-19 01:01:04.187908-03:00                 1288                1072   \n",
       "2019-07-19 01:31:09.091072-03:00                 1356                1051   \n",
       "2019-07-19 02:01:12.404074-03:00                 1391                1039   \n",
       "2019-07-19 02:31:14.098947-03:00                 1435                1023   \n",
       "\n",
       "                                  num_docks_available  num_docks_disabled  \\\n",
       "timestamp_consulta                                                          \n",
       "2019-07-19 00:31:02.847471-03:00                 5164                  91   \n",
       "2019-07-19 01:01:04.187908-03:00                 5166                  86   \n",
       "2019-07-19 01:31:09.091072-03:00                 5120                  88   \n",
       "2019-07-19 02:01:12.404074-03:00                 5098                  90   \n",
       "2019-07-19 02:31:14.098947-03:00                 5070                  88   \n",
       "\n",
       "                                  sospechosa  \n",
       "timestamp_consulta                            \n",
       "2019-07-19 00:31:02.847471-03:00         1.0  \n",
       "2019-07-19 01:01:04.187908-03:00         1.0  \n",
       "2019-07-19 01:31:09.091072-03:00         1.0  \n",
       "2019-07-19 02:01:12.404074-03:00         1.0  \n",
       "2019-07-19 02:31:14.098947-03:00         2.0  "
      ]
     },
     "execution_count": 25,
     "metadata": {},
     "output_type": "execute_result"
    }
   ],
   "source": [
    "agregada = concatenada.reindex(columns = col_interes).groupby('timestamp_consulta').sum()\n",
    "agregada.head()"
   ]
  },
  {
   "cell_type": "code",
   "execution_count": 28,
   "metadata": {},
   "outputs": [],
   "source": [
    "agregada['max_bicis_sistema']=agregada.num_bikes_available.max()"
   ]
  },
  {
   "cell_type": "code",
   "execution_count": 29,
   "metadata": {},
   "outputs": [],
   "source": [
    "agregada.to_csv('un_dia_ecobici_agregada.csv')"
   ]
  },
  {
   "cell_type": "code",
   "execution_count": 27,
   "metadata": {},
   "outputs": [
    {
     "data": {
      "text/plain": [
       "<matplotlib.axes._subplots.AxesSubplot at 0x7f3e9870e780>"
      ]
     },
     "execution_count": 27,
     "metadata": {},
     "output_type": "execute_result"
    },
    {
     "data": {
      "image/png": "[encoded data removed]",
      "text/plain": [
       "<Figure size 432x288 with 1 Axes>"
      ]
     },
     "metadata": {
      "needs_background": "light"
     },
     "output_type": "display_data"
    }
   ],
   "source": [
    "agregada.num_bikes_available.plot()"
   ]
  },
  {
   "cell_type": "code",
   "execution_count": null,
   "metadata": {},
   "outputs": [],
   "source": []
  }
 ],
 "metadata": {
  "kernelspec": {
   "display_name": "Python 3",
   "language": "python",
   "name": "python3"
  },
  "language_info": {
   "codemirror_mode": {
    "name": "ipython",
    "version": 3
   },
   "file_extension": ".py",
   "mimetype": "text/x-python",
   "name": "python",
   "nbconvert_exporter": "python",
   "pygments_lexer": "ipython3",
   "version": "3.6.8"
  }
 },
 "nbformat": 4,
 "nbformat_minor": 2
}
